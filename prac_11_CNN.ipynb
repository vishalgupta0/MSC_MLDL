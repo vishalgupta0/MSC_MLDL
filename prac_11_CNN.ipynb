{
  "nbformat": 4,
  "nbformat_minor": 0,
  "metadata": {
    "colab": {
      "provenance": [],
      "mount_file_id": "1FbcF75Zq0cc5mhX3F8c4I7eQvN79bww6",
      "authorship_tag": "ABX9TyNUvjZPVCwUSaN3Mq75SYGv",
      "include_colab_link": true
    },
    "kernelspec": {
      "name": "python3",
      "display_name": "Python 3"
    },
    "language_info": {
      "name": "python"
    }
  },
  "cells": [
    {
      "cell_type": "markdown",
      "metadata": {
        "id": "view-in-github",
        "colab_type": "text"
      },
      "source": [
        "<a href=\"https://colab.research.google.com/github/vishalgupta0/MSC_MLDL/blob/main/prac_11_CNN.ipynb\" target=\"_parent\"><img src=\"https://colab.research.google.com/assets/colab-badge.svg\" alt=\"Open In Colab\"/></a>"
      ]
    },
    {
      "cell_type": "code",
      "execution_count": 1,
      "metadata": {
        "id": "iUV9jfrXl6RW"
      },
      "outputs": [],
      "source": [
        "\n",
        "import tensorflow as tf\n",
        "from keras.preprocessing.image import ImageDataGenerator"
      ]
    },
    {
      "cell_type": "code",
      "source": [
        "tf.__version__"
      ],
      "metadata": {
        "colab": {
          "base_uri": "https://localhost:8080/",
          "height": 35
        },
        "id": "i8LhIKQxl64o",
        "outputId": "fad98726-8420-41dc-ef1c-57589841fe8c"
      },
      "execution_count": 2,
      "outputs": [
        {
          "output_type": "execute_result",
          "data": {
            "text/plain": [
              "'2.12.0'"
            ],
            "application/vnd.google.colaboratory.intrinsic+json": {
              "type": "string"
            }
          },
          "metadata": {},
          "execution_count": 2
        }
      ]
    },
    {
      "cell_type": "code",
      "source": [
        "from tensorflow.python import training\n",
        "train_datagen = ImageDataGenerator(rescale = 1./255,\n",
        "                                   shear_range=2.0,\n",
        "                                   zoom_range=0.2,\n",
        "                                   horizontal_flip=True)\n",
        "training_set=train_datagen.flow_from_directory('/content/drive/MyDrive/small_dataset/training_set',\n",
        "                                               target_size=(64, 64),\n",
        "                                               batch_size=32,\n",
        "                                               class_mode='binary')"
      ],
      "metadata": {
        "colab": {
          "base_uri": "https://localhost:8080/"
        },
        "id": "4uM10Ddwl67I",
        "outputId": "9e2224d9-46ac-461d-90d9-f82891088fe7"
      },
      "execution_count": 3,
      "outputs": [
        {
          "output_type": "stream",
          "name": "stdout",
          "text": [
            "Found 10 images belonging to 2 classes.\n"
          ]
        }
      ]
    },
    {
      "cell_type": "code",
      "source": [
        "test_datagen = ImageDataGenerator(rescale = 1./255)\n",
        "test_set = test_datagen.flow_from_directory('/content/drive/MyDrive/small_dataset/test_set',\n",
        "                                            target_size=(64, 64),\n",
        "                                            batch_size=32,\n",
        "                                            class_mode='binary')"
      ],
      "metadata": {
        "colab": {
          "base_uri": "https://localhost:8080/"
        },
        "id": "1dRW5_qnl69n",
        "outputId": "eb5da5a9-65db-4eb9-bb4c-5535334eee9d"
      },
      "execution_count": 4,
      "outputs": [
        {
          "output_type": "stream",
          "name": "stdout",
          "text": [
            "Found 10 images belonging to 2 classes.\n"
          ]
        }
      ]
    },
    {
      "cell_type": "code",
      "source": [
        "cnn = tf.keras.models.Sequential()"
      ],
      "metadata": {
        "id": "npd-OjF9l7AP"
      },
      "execution_count": 5,
      "outputs": []
    },
    {
      "cell_type": "code",
      "source": [
        "cnn.add(tf.keras.layers.Convolution2D(filters=32, kernel_size=3,activation='relu', input_shape=[64, 64,3]))"
      ],
      "metadata": {
        "id": "p0-l_8ASl7C_"
      },
      "execution_count": 6,
      "outputs": []
    },
    {
      "cell_type": "code",
      "source": [
        "cnn.add(tf.keras.layers.MaxPool2D(pool_size=2, strides=2))"
      ],
      "metadata": {
        "id": "aYA3EAPLl7Fo"
      },
      "execution_count": 7,
      "outputs": []
    },
    {
      "cell_type": "code",
      "source": [
        "cnn.add(tf.keras.layers.Conv2D(filters=32, kernel_size=3, activation = 'relu'))\n",
        "cnn.add(tf.keras.layers.MaxPool2D(pool_size=2, strides=2))"
      ],
      "metadata": {
        "id": "mRKkzVdJl7IY"
      },
      "execution_count": 8,
      "outputs": []
    },
    {
      "cell_type": "code",
      "source": [
        "cnn.add(tf.keras.layers.Flatten())"
      ],
      "metadata": {
        "id": "PpZW9So-l7LA"
      },
      "execution_count": 9,
      "outputs": []
    },
    {
      "cell_type": "code",
      "source": [
        "cnn.add(tf.keras.layers.Dense(units=120, activation='relu'))"
      ],
      "metadata": {
        "id": "vH-ZhCdzl7N5"
      },
      "execution_count": 10,
      "outputs": []
    },
    {
      "cell_type": "code",
      "source": [
        "cnn.add(tf.keras.layers.Dense(units=1, activation='sigmoid'))"
      ],
      "metadata": {
        "id": "MFHFylGzl7Qx"
      },
      "execution_count": 11,
      "outputs": []
    },
    {
      "cell_type": "code",
      "source": [
        "cnn.compile(optimizer='adam', loss='binary_crossentropy', metrics=['accuracy'])"
      ],
      "metadata": {
        "id": "0SRiKSPMl7TD"
      },
      "execution_count": 12,
      "outputs": []
    },
    {
      "cell_type": "code",
      "source": [
        "cnn.fit(x=training_set,validation_data=test_set, epochs=25)"
      ],
      "metadata": {
        "colab": {
          "base_uri": "https://localhost:8080/"
        },
        "id": "9qTsN9ZYl7V2",
        "outputId": "5663011c-4b02-406b-a002-2251fb0e4dc4"
      },
      "execution_count": 13,
      "outputs": [
        {
          "output_type": "stream",
          "name": "stdout",
          "text": [
            "Epoch 1/25\n",
            "1/1 [==============================] - 3s 3s/step - loss: 0.7084 - accuracy: 0.5000 - val_loss: 0.8177 - val_accuracy: 0.5000\n",
            "Epoch 2/25\n",
            "1/1 [==============================] - 0s 218ms/step - loss: 0.7904 - accuracy: 0.5000 - val_loss: 0.7118 - val_accuracy: 0.4000\n",
            "Epoch 3/25\n",
            "1/1 [==============================] - 0s 348ms/step - loss: 0.6653 - accuracy: 0.6000 - val_loss: 0.7169 - val_accuracy: 0.5000\n",
            "Epoch 4/25\n",
            "1/1 [==============================] - 0s 277ms/step - loss: 0.6592 - accuracy: 0.5000 - val_loss: 0.7199 - val_accuracy: 0.4000\n",
            "Epoch 5/25\n",
            "1/1 [==============================] - 0s 271ms/step - loss: 0.6549 - accuracy: 0.5000 - val_loss: 0.7176 - val_accuracy: 0.4000\n",
            "Epoch 6/25\n",
            "1/1 [==============================] - 0s 268ms/step - loss: 0.6255 - accuracy: 0.7000 - val_loss: 0.7327 - val_accuracy: 0.5000\n",
            "Epoch 7/25\n",
            "1/1 [==============================] - 0s 277ms/step - loss: 0.6120 - accuracy: 0.7000 - val_loss: 0.7538 - val_accuracy: 0.6000\n",
            "Epoch 8/25\n",
            "1/1 [==============================] - 0s 264ms/step - loss: 0.5909 - accuracy: 0.7000 - val_loss: 0.7626 - val_accuracy: 0.5000\n",
            "Epoch 9/25\n",
            "1/1 [==============================] - 0s 340ms/step - loss: 0.5611 - accuracy: 0.8000 - val_loss: 0.7825 - val_accuracy: 0.3000\n",
            "Epoch 10/25\n",
            "1/1 [==============================] - 0s 286ms/step - loss: 0.4993 - accuracy: 0.9000 - val_loss: 0.8150 - val_accuracy: 0.2000\n",
            "Epoch 11/25\n",
            "1/1 [==============================] - 0s 341ms/step - loss: 0.4863 - accuracy: 0.9000 - val_loss: 0.8320 - val_accuracy: 0.3000\n",
            "Epoch 12/25\n",
            "1/1 [==============================] - 0s 278ms/step - loss: 0.4563 - accuracy: 0.8000 - val_loss: 0.8699 - val_accuracy: 0.6000\n",
            "Epoch 13/25\n",
            "1/1 [==============================] - 0s 335ms/step - loss: 0.4303 - accuracy: 0.9000 - val_loss: 0.9163 - val_accuracy: 0.5000\n",
            "Epoch 14/25\n",
            "1/1 [==============================] - 0s 191ms/step - loss: 0.4176 - accuracy: 0.8000 - val_loss: 0.9438 - val_accuracy: 0.5000\n",
            "Epoch 15/25\n",
            "1/1 [==============================] - 0s 184ms/step - loss: 0.3983 - accuracy: 0.9000 - val_loss: 0.9881 - val_accuracy: 0.3000\n",
            "Epoch 16/25\n",
            "1/1 [==============================] - 0s 189ms/step - loss: 0.3214 - accuracy: 0.9000 - val_loss: 1.0329 - val_accuracy: 0.4000\n",
            "Epoch 17/25\n",
            "1/1 [==============================] - 0s 208ms/step - loss: 0.3071 - accuracy: 0.9000 - val_loss: 1.1047 - val_accuracy: 0.5000\n",
            "Epoch 18/25\n",
            "1/1 [==============================] - 0s 193ms/step - loss: 0.2970 - accuracy: 0.9000 - val_loss: 1.1396 - val_accuracy: 0.4000\n",
            "Epoch 19/25\n",
            "1/1 [==============================] - 0s 189ms/step - loss: 0.2119 - accuracy: 0.9000 - val_loss: 1.1966 - val_accuracy: 0.3000\n",
            "Epoch 20/25\n",
            "1/1 [==============================] - 0s 187ms/step - loss: 0.3150 - accuracy: 0.9000 - val_loss: 1.3052 - val_accuracy: 0.5000\n",
            "Epoch 21/25\n",
            "1/1 [==============================] - 0s 205ms/step - loss: 0.2518 - accuracy: 0.9000 - val_loss: 1.2965 - val_accuracy: 0.3000\n",
            "Epoch 22/25\n",
            "1/1 [==============================] - 0s 181ms/step - loss: 0.1888 - accuracy: 0.9000 - val_loss: 1.3667 - val_accuracy: 0.4000\n",
            "Epoch 23/25\n",
            "1/1 [==============================] - 0s 182ms/step - loss: 0.1411 - accuracy: 1.0000 - val_loss: 1.4344 - val_accuracy: 0.3000\n",
            "Epoch 24/25\n",
            "1/1 [==============================] - 0s 185ms/step - loss: 0.1249 - accuracy: 1.0000 - val_loss: 1.4610 - val_accuracy: 0.3000\n",
            "Epoch 25/25\n",
            "1/1 [==============================] - 0s 193ms/step - loss: 0.1060 - accuracy: 1.0000 - val_loss: 1.5783 - val_accuracy: 0.4000\n"
          ]
        },
        {
          "output_type": "execute_result",
          "data": {
            "text/plain": [
              "<keras.callbacks.History at 0x7b4448f6de40>"
            ]
          },
          "metadata": {},
          "execution_count": 13
        }
      ]
    },
    {
      "cell_type": "code",
      "source": [
        "import numpy as np\n",
        "from tensorflow.keras.preprocessing import image\n",
        "test_image = image.load_img('/content/drive/MyDrive/small_dataset/single_prediction/cat_or_dog_1.jpg',target_size=(64,64))\n",
        "test_image =image.img_to_array(test_image)\n",
        "test_image = np.expand_dims(test_image,axis=0)\n",
        "result = cnn.predict(test_image)\n",
        "training_set.class_indices\n",
        "if result[0][0]==1:\n",
        "  prediction ='dog'\n",
        "else:\n",
        "    prediction='cat'"
      ],
      "metadata": {
        "colab": {
          "base_uri": "https://localhost:8080/"
        },
        "id": "fgsCtMM6l7Yz",
        "outputId": "51367b9f-6367-4c33-c1f9-2f26aba08821"
      },
      "execution_count": 14,
      "outputs": [
        {
          "output_type": "stream",
          "name": "stdout",
          "text": [
            "1/1 [==============================] - 0s 159ms/step\n"
          ]
        }
      ]
    },
    {
      "cell_type": "code",
      "source": [
        "print(prediction)"
      ],
      "metadata": {
        "colab": {
          "base_uri": "https://localhost:8080/"
        },
        "id": "CROduxRSl7bH",
        "outputId": "6f265b59-06cd-4430-e1ef-1ececa354638"
      },
      "execution_count": 15,
      "outputs": [
        {
          "output_type": "stream",
          "name": "stdout",
          "text": [
            "dog\n"
          ]
        }
      ]
    }
  ]
}